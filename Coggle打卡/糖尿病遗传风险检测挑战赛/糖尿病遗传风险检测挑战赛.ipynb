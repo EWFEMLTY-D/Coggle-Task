{
 "cells": [
  {
   "cell_type": "markdown",
   "metadata": {},
   "source": [
    "### Task 1 : Ready\n"
   ]
  },
  {
   "cell_type": "code",
   "execution_count": 59,
   "metadata": {},
   "outputs": [
    {
     "name": "stdout",
     "output_type": "stream",
     "text": [
      "(5070, 10) (1000, 9)\n",
      "编号            int64\n",
      "性别            int64\n",
      "出生年份          int64\n",
      "体重指数        float64\n",
      "糖尿病家族史       object\n",
      "舒张压         float64\n",
      "口服耐糖量测试     float64\n",
      "胰岛素释放实验     float64\n",
      "肱三头肌皮褶厚度    float64\n",
      "患有糖尿病标识       int64\n",
      "dtype: object 编号            int64\n",
      "性别            int64\n",
      "出生年份          int64\n",
      "体重指数        float64\n",
      "糖尿病家族史       object\n",
      "舒张压         float64\n",
      "口服耐糖量测试     float64\n",
      "胰岛素释放实验     float64\n",
      "肱三头肌皮褶厚度    float64\n",
      "dtype: object\n"
     ]
    }
   ],
   "source": [
    "import pandas as pd \n",
    "import numpy as np\n",
    "import matplotlib.pyplot as plt\n",
    "import seaborn as sns\n",
    "from sklearn.model_selection import train_test_split\n",
    "from sklearn.linear_model import LogisticRegression\n",
    "from sklearn import tree\n",
    "import lightgbm as lgb\n",
    "from lightgbm import LGBMClassifier\n",
    "from sklearn.tree import DecisionTreeClassifier\n",
    "from sklearn.preprocessing import MinMaxScaler\n",
    "from sklearn.pipeline import make_pipeline\n",
    "from sklearn.metrics import f1_score\n",
    "%matplotlib inline\n",
    "\n",
    "train_df = pd.read_csv('C:/Users/ewfem/Desktop/糖尿病遗传风险检测挑战赛/比赛训练集.csv', encoding='gbk')\n",
    "test_df = pd.read_csv('C:/Users/ewfem/Desktop/糖尿病遗传风险检测挑战赛/比赛测试集.csv', encoding='gbk')\n",
    "\n",
    "print(train_df.shape, test_df.shape)\n",
    "print(train_df.dtypes, test_df.dtypes)"
   ]
  },
  {
   "cell_type": "markdown",
   "metadata": {},
   "source": [
    "### Task 2 : Data Analysis\n",
    "*步骤1：统计字段的缺失值，计算缺失比例*\n",
    "* *训练集和测试机缺失数据分布一致，舒张压缺失一半数据*"
   ]
  },
  {
   "cell_type": "code",
   "execution_count": 60,
   "metadata": {},
   "outputs": [
    {
     "name": "stdout",
     "output_type": "stream",
     "text": [
      "编号          0.000000\n",
      "性别          0.000000\n",
      "出生年份        0.000000\n",
      "体重指数        0.000000\n",
      "糖尿病家族史      0.000000\n",
      "舒张压         0.048718\n",
      "口服耐糖量测试     0.000000\n",
      "胰岛素释放实验     0.000000\n",
      "肱三头肌皮褶厚度    0.000000\n",
      "患有糖尿病标识     0.000000\n",
      "dtype: float64\n",
      "------------------------------------------------------------\n",
      "编号          0.000\n",
      "性别          0.000\n",
      "出生年份        0.000\n",
      "体重指数        0.000\n",
      "糖尿病家族史      0.000\n",
      "舒张压         0.049\n",
      "口服耐糖量测试     0.000\n",
      "胰岛素释放实验     0.000\n",
      "肱三头肌皮褶厚度    0.000\n",
      "dtype: float64\n"
     ]
    }
   ],
   "source": [
    "print(train_df.isnull().mean(0))\n",
    "print(60*'-')\n",
    "print(test_df.isnull().mean(0))"
   ]
  },
  {
   "cell_type": "code",
   "execution_count": 61,
   "metadata": {},
   "outputs": [
    {
     "data": {
      "text/plain": [
       "86.0     339\n",
       "85.0     312\n",
       "84.0     311\n",
       "88.0     308\n",
       "87.0     303\n",
       "89.0     299\n",
       "83.0     258\n",
       "97.0     222\n",
       "96.0     220\n",
       "93.0     218\n",
       "94.0     213\n",
       "95.0     211\n",
       "99.0     206\n",
       "91.0     199\n",
       "90.0     198\n",
       "98.0     193\n",
       "76.0      47\n",
       "106.0     44\n",
       "108.0     39\n",
       "109.0     39\n",
       "101.0     38\n",
       "68.0      36\n",
       "80.0      35\n",
       "66.0      34\n",
       "72.0      34\n",
       "70.0      34\n",
       "107.0     34\n",
       "74.0      32\n",
       "78.0      30\n",
       "62.0      30\n",
       "102.0     30\n",
       "103.0     30\n",
       "100.0     29\n",
       "104.0     29\n",
       "110.0     28\n",
       "82.0      28\n",
       "105.0     25\n",
       "60.0      19\n",
       "64.0      17\n",
       "58.0      14\n",
       "54.0       9\n",
       "50.0       8\n",
       "56.0       6\n",
       "73.0       5\n",
       "48.0       4\n",
       "52.0       4\n",
       "112.0      3\n",
       "46.0       3\n",
       "71.0       3\n",
       "44.0       3\n",
       "63.0       2\n",
       "126.0      1\n",
       "114.0      1\n",
       "30.0       1\n",
       "59.0       1\n",
       "116.0      1\n",
       "69.0       1\n",
       "34.0       1\n",
       "120.0      1\n",
       "Name: 舒张压, dtype: int64"
      ]
     },
     "execution_count": 61,
     "metadata": {},
     "output_type": "execute_result"
    }
   ],
   "source": [
    "train_df['舒张压'].value_counts().sort_values(ascending=False)"
   ]
  },
  {
   "cell_type": "markdown",
   "metadata": {},
   "source": [
    "*步骤2：分析字段类型*\n",
    "* *9个数值型，1个类别型；但是从分析角度，存在3个类别型，分别是性别、糖尿病家族史、患有糖尿病标识，这里只是用数字代替类别*"
   ]
  },
  {
   "cell_type": "code",
   "execution_count": 62,
   "metadata": {},
   "outputs": [
    {
     "data": {
      "text/html": [
       "<div>\n",
       "<style scoped>\n",
       "    .dataframe tbody tr th:only-of-type {\n",
       "        vertical-align: middle;\n",
       "    }\n",
       "\n",
       "    .dataframe tbody tr th {\n",
       "        vertical-align: top;\n",
       "    }\n",
       "\n",
       "    .dataframe thead th {\n",
       "        text-align: right;\n",
       "    }\n",
       "</style>\n",
       "<table border=\"1\" class=\"dataframe\">\n",
       "  <thead>\n",
       "    <tr style=\"text-align: right;\">\n",
       "      <th></th>\n",
       "      <th>编号</th>\n",
       "      <th>性别</th>\n",
       "      <th>出生年份</th>\n",
       "      <th>体重指数</th>\n",
       "      <th>糖尿病家族史</th>\n",
       "      <th>舒张压</th>\n",
       "      <th>口服耐糖量测试</th>\n",
       "      <th>胰岛素释放实验</th>\n",
       "      <th>肱三头肌皮褶厚度</th>\n",
       "      <th>患有糖尿病标识</th>\n",
       "    </tr>\n",
       "  </thead>\n",
       "  <tbody>\n",
       "    <tr>\n",
       "      <th>0</th>\n",
       "      <td>1</td>\n",
       "      <td>0</td>\n",
       "      <td>1996</td>\n",
       "      <td>30.1</td>\n",
       "      <td>无记录</td>\n",
       "      <td>106.0</td>\n",
       "      <td>3.818</td>\n",
       "      <td>7.89</td>\n",
       "      <td>0.0</td>\n",
       "      <td>0</td>\n",
       "    </tr>\n",
       "    <tr>\n",
       "      <th>1</th>\n",
       "      <td>2</td>\n",
       "      <td>0</td>\n",
       "      <td>1988</td>\n",
       "      <td>27.5</td>\n",
       "      <td>无记录</td>\n",
       "      <td>84.0</td>\n",
       "      <td>-1.000</td>\n",
       "      <td>0.00</td>\n",
       "      <td>14.7</td>\n",
       "      <td>0</td>\n",
       "    </tr>\n",
       "  </tbody>\n",
       "</table>\n",
       "</div>"
      ],
      "text/plain": [
       "   编号  性别  出生年份  体重指数 糖尿病家族史    舒张压  口服耐糖量测试  胰岛素释放实验  肱三头肌皮褶厚度  患有糖尿病标识\n",
       "0   1   0  1996  30.1    无记录  106.0    3.818     7.89       0.0        0\n",
       "1   2   0  1988  27.5    无记录   84.0   -1.000     0.00      14.7        0"
      ]
     },
     "execution_count": 62,
     "metadata": {},
     "output_type": "execute_result"
    }
   ],
   "source": [
    "train_df.head(2)"
   ]
  },
  {
   "cell_type": "code",
   "execution_count": 63,
   "metadata": {},
   "outputs": [
    {
     "name": "stdout",
     "output_type": "stream",
     "text": [
      "<class 'pandas.core.frame.DataFrame'>\n",
      "RangeIndex: 5070 entries, 0 to 5069\n",
      "Data columns (total 10 columns):\n",
      " #   Column    Non-Null Count  Dtype  \n",
      "---  ------    --------------  -----  \n",
      " 0   编号        5070 non-null   int64  \n",
      " 1   性别        5070 non-null   int64  \n",
      " 2   出生年份      5070 non-null   int64  \n",
      " 3   体重指数      5070 non-null   float64\n",
      " 4   糖尿病家族史    5070 non-null   object \n",
      " 5   舒张压       4823 non-null   float64\n",
      " 6   口服耐糖量测试   5070 non-null   float64\n",
      " 7   胰岛素释放实验   5070 non-null   float64\n",
      " 8   肱三头肌皮褶厚度  5070 non-null   float64\n",
      " 9   患有糖尿病标识   5070 non-null   int64  \n",
      "dtypes: float64(5), int64(4), object(1)\n",
      "memory usage: 396.2+ KB\n"
     ]
    }
   ],
   "source": [
    "train_df.info()"
   ]
  },
  {
   "cell_type": "markdown",
   "metadata": {},
   "source": [
    "*步骤3：计算字段相关性*\n",
    "* *数据相关性不强，符合独立同分布*"
   ]
  },
  {
   "cell_type": "code",
   "execution_count": 64,
   "metadata": {},
   "outputs": [
    {
     "data": {
      "text/plain": [
       "无记录               2897\n",
       "叔叔或姑姑有一方患有糖尿病     1084\n",
       "父母有一方患有糖尿病         875\n",
       "叔叔或者姑姑有一方患有糖尿病     214\n",
       "Name: 糖尿病家族史, dtype: int64"
      ]
     },
     "execution_count": 64,
     "metadata": {},
     "output_type": "execute_result"
    }
   ],
   "source": [
    "train_df['糖尿病家族史'].value_counts()"
   ]
  },
  {
   "cell_type": "code",
   "execution_count": 65,
   "metadata": {},
   "outputs": [],
   "source": [
    "# 编码中文字符\n",
    "train_df['糖尿病家族史'] = train_df['糖尿病家族史'].map({\n",
    "    '无记录':0, \n",
    "    '叔叔或姑姑有一方患有糖尿病':1, \n",
    "    '父母有一方患有糖尿病':2,\n",
    "    '叔叔或者姑姑有一方患有糖尿病':1,\n",
    "})\n",
    "\n",
    "test_df['糖尿病家族史'] = test_df['糖尿病家族史'].map({\n",
    "    '无记录':0, \n",
    "    '叔叔或姑姑有一方患有糖尿病':1, \n",
    "    '父母有一方患有糖尿病':2,\n",
    "    '叔叔或者姑姑有一方患有糖尿病':1,\n",
    "})"
   ]
  },
  {
   "cell_type": "code",
   "execution_count": 66,
   "metadata": {},
   "outputs": [
    {
     "data": {
      "text/html": [
       "<div>\n",
       "<style scoped>\n",
       "    .dataframe tbody tr th:only-of-type {\n",
       "        vertical-align: middle;\n",
       "    }\n",
       "\n",
       "    .dataframe tbody tr th {\n",
       "        vertical-align: top;\n",
       "    }\n",
       "\n",
       "    .dataframe thead th {\n",
       "        text-align: right;\n",
       "    }\n",
       "</style>\n",
       "<table border=\"1\" class=\"dataframe\">\n",
       "  <thead>\n",
       "    <tr style=\"text-align: right;\">\n",
       "      <th></th>\n",
       "      <th>性别</th>\n",
       "      <th>出生年份</th>\n",
       "      <th>体重指数</th>\n",
       "      <th>糖尿病家族史</th>\n",
       "      <th>舒张压</th>\n",
       "      <th>口服耐糖量测试</th>\n",
       "      <th>胰岛素释放实验</th>\n",
       "      <th>肱三头肌皮褶厚度</th>\n",
       "      <th>患有糖尿病标识</th>\n",
       "    </tr>\n",
       "  </thead>\n",
       "  <tbody>\n",
       "    <tr>\n",
       "      <th>性别</th>\n",
       "      <td>1.000000</td>\n",
       "      <td>-0.119563</td>\n",
       "      <td>0.075186</td>\n",
       "      <td>-0.000694</td>\n",
       "      <td>0.078870</td>\n",
       "      <td>0.011463</td>\n",
       "      <td>-0.053597</td>\n",
       "      <td>0.014037</td>\n",
       "      <td>0.031480</td>\n",
       "    </tr>\n",
       "    <tr>\n",
       "      <th>出生年份</th>\n",
       "      <td>-0.119563</td>\n",
       "      <td>1.000000</td>\n",
       "      <td>-0.074603</td>\n",
       "      <td>0.035728</td>\n",
       "      <td>-0.154631</td>\n",
       "      <td>0.002085</td>\n",
       "      <td>0.058585</td>\n",
       "      <td>-0.013111</td>\n",
       "      <td>-0.068225</td>\n",
       "    </tr>\n",
       "    <tr>\n",
       "      <th>体重指数</th>\n",
       "      <td>0.075186</td>\n",
       "      <td>-0.074603</td>\n",
       "      <td>1.000000</td>\n",
       "      <td>-0.041778</td>\n",
       "      <td>0.159903</td>\n",
       "      <td>-0.001796</td>\n",
       "      <td>-0.034507</td>\n",
       "      <td>0.026321</td>\n",
       "      <td>0.377919</td>\n",
       "    </tr>\n",
       "    <tr>\n",
       "      <th>糖尿病家族史</th>\n",
       "      <td>-0.000694</td>\n",
       "      <td>0.035728</td>\n",
       "      <td>-0.041778</td>\n",
       "      <td>1.000000</td>\n",
       "      <td>-0.160515</td>\n",
       "      <td>0.042249</td>\n",
       "      <td>0.119965</td>\n",
       "      <td>-0.030645</td>\n",
       "      <td>0.005897</td>\n",
       "    </tr>\n",
       "    <tr>\n",
       "      <th>舒张压</th>\n",
       "      <td>0.078870</td>\n",
       "      <td>-0.154631</td>\n",
       "      <td>0.159903</td>\n",
       "      <td>-0.160515</td>\n",
       "      <td>1.000000</td>\n",
       "      <td>-0.020317</td>\n",
       "      <td>-0.206663</td>\n",
       "      <td>0.076147</td>\n",
       "      <td>0.157421</td>\n",
       "    </tr>\n",
       "    <tr>\n",
       "      <th>口服耐糖量测试</th>\n",
       "      <td>0.011463</td>\n",
       "      <td>0.002085</td>\n",
       "      <td>-0.001796</td>\n",
       "      <td>0.042249</td>\n",
       "      <td>-0.020317</td>\n",
       "      <td>1.000000</td>\n",
       "      <td>0.093715</td>\n",
       "      <td>-0.006483</td>\n",
       "      <td>0.178133</td>\n",
       "    </tr>\n",
       "    <tr>\n",
       "      <th>胰岛素释放实验</th>\n",
       "      <td>-0.053597</td>\n",
       "      <td>0.058585</td>\n",
       "      <td>-0.034507</td>\n",
       "      <td>0.119965</td>\n",
       "      <td>-0.206663</td>\n",
       "      <td>0.093715</td>\n",
       "      <td>1.000000</td>\n",
       "      <td>-0.015479</td>\n",
       "      <td>0.156656</td>\n",
       "    </tr>\n",
       "    <tr>\n",
       "      <th>肱三头肌皮褶厚度</th>\n",
       "      <td>0.014037</td>\n",
       "      <td>-0.013111</td>\n",
       "      <td>0.026321</td>\n",
       "      <td>-0.030645</td>\n",
       "      <td>0.076147</td>\n",
       "      <td>-0.006483</td>\n",
       "      <td>-0.015479</td>\n",
       "      <td>1.000000</td>\n",
       "      <td>0.410667</td>\n",
       "    </tr>\n",
       "    <tr>\n",
       "      <th>患有糖尿病标识</th>\n",
       "      <td>0.031480</td>\n",
       "      <td>-0.068225</td>\n",
       "      <td>0.377919</td>\n",
       "      <td>0.005897</td>\n",
       "      <td>0.157421</td>\n",
       "      <td>0.178133</td>\n",
       "      <td>0.156656</td>\n",
       "      <td>0.410667</td>\n",
       "      <td>1.000000</td>\n",
       "    </tr>\n",
       "  </tbody>\n",
       "</table>\n",
       "</div>"
      ],
      "text/plain": [
       "                性别      出生年份      体重指数    糖尿病家族史       舒张压   口服耐糖量测试  \\\n",
       "性别        1.000000 -0.119563  0.075186 -0.000694  0.078870  0.011463   \n",
       "出生年份     -0.119563  1.000000 -0.074603  0.035728 -0.154631  0.002085   \n",
       "体重指数      0.075186 -0.074603  1.000000 -0.041778  0.159903 -0.001796   \n",
       "糖尿病家族史   -0.000694  0.035728 -0.041778  1.000000 -0.160515  0.042249   \n",
       "舒张压       0.078870 -0.154631  0.159903 -0.160515  1.000000 -0.020317   \n",
       "口服耐糖量测试   0.011463  0.002085 -0.001796  0.042249 -0.020317  1.000000   \n",
       "胰岛素释放实验  -0.053597  0.058585 -0.034507  0.119965 -0.206663  0.093715   \n",
       "肱三头肌皮褶厚度  0.014037 -0.013111  0.026321 -0.030645  0.076147 -0.006483   \n",
       "患有糖尿病标识   0.031480 -0.068225  0.377919  0.005897  0.157421  0.178133   \n",
       "\n",
       "           胰岛素释放实验  肱三头肌皮褶厚度   患有糖尿病标识  \n",
       "性别       -0.053597  0.014037  0.031480  \n",
       "出生年份      0.058585 -0.013111 -0.068225  \n",
       "体重指数     -0.034507  0.026321  0.377919  \n",
       "糖尿病家族史    0.119965 -0.030645  0.005897  \n",
       "舒张压      -0.206663  0.076147  0.157421  \n",
       "口服耐糖量测试   0.093715 -0.006483  0.178133  \n",
       "胰岛素释放实验   1.000000 -0.015479  0.156656  \n",
       "肱三头肌皮褶厚度 -0.015479  1.000000  0.410667  \n",
       "患有糖尿病标识   0.156656  0.410667  1.000000  "
      ]
     },
     "execution_count": 66,
     "metadata": {},
     "output_type": "execute_result"
    }
   ],
   "source": [
    "train_df.drop(['编号'], axis=1).corr()"
   ]
  },
  {
   "cell_type": "code",
   "execution_count": 67,
   "metadata": {},
   "outputs": [
    {
     "name": "stderr",
     "output_type": "stream",
     "text": [
      "d:\\Anaconda3\\lib\\site-packages\\seaborn\\utils.py:95: UserWarning: Glyph 8722 (\\N{MINUS SIGN}) missing from current font.\n",
      "  fig.canvas.draw()\n"
     ]
    },
    {
     "data": {
      "text/plain": [
       "<AxesSubplot:>"
      ]
     },
     "execution_count": 67,
     "metadata": {},
     "output_type": "execute_result"
    },
    {
     "name": "stderr",
     "output_type": "stream",
     "text": [
      "d:\\Anaconda3\\lib\\site-packages\\IPython\\core\\pylabtools.py:151: UserWarning: Glyph 8722 (\\N{MINUS SIGN}) missing from current font.\n",
      "  fig.canvas.print_figure(bytes_io, **kw)\n"
     ]
    },
    {
     "data": {
      "image/png": "[encoded data removed]",
      "text/plain": [
       "<Figure size 432x288 with 2 Axes>"
      ]
     },
     "metadata": {
      "needs_background": "light"
     },
     "output_type": "display_data"
    }
   ],
   "source": [
    "plt.rcParams['font.sans-serif'] = ['SimHei']\n",
    "sns.heatmap(train_df.drop(['编号'], axis=1).corr())"
   ]
  },
  {
   "cell_type": "markdown",
   "metadata": {},
   "source": [
    "### Task 3：逻辑回归尝试\n",
    "*步骤1：导入模块*"
   ]
  },
  {
   "cell_type": "code",
   "execution_count": 68,
   "metadata": {},
   "outputs": [],
   "source": [
    "from sklearn.linear_model import LogisticRegression"
   ]
  },
  {
   "cell_type": "markdown",
   "metadata": {},
   "source": [
    "*步骤2：使用训练集和逻辑回归进行训练，并在测试集上进行预测*"
   ]
  },
  {
   "cell_type": "code",
   "execution_count": 69,
   "metadata": {},
   "outputs": [
    {
     "name": "stderr",
     "output_type": "stream",
     "text": [
      "d:\\Anaconda3\\lib\\site-packages\\sklearn\\linear_model\\_logistic.py:814: ConvergenceWarning: lbfgs failed to converge (status=1):\n",
      "STOP: TOTAL NO. of ITERATIONS REACHED LIMIT.\n",
      "\n",
      "Increase the number of iterations (max_iter) or scale the data as shown in:\n",
      "    https://scikit-learn.org/stable/modules/preprocessing.html\n",
      "Please also refer to the documentation for alternative solver options:\n",
      "    https://scikit-learn.org/stable/modules/linear_model.html#logistic-regression\n",
      "  n_iter_i = _check_optimize_result(\n"
     ]
    }
   ],
   "source": [
    "# 填充缺失值\n",
    "train_df['舒张压'].fillna(train_df['舒张压'].mean(), inplace=True)\n",
    "test_df['舒张压'].fillna(test_df['舒张压'].mean(), inplace=True)\n",
    "\n",
    "# 拟合训练集\n",
    "X = train_df.drop(['编号', '患有糖尿病标识'], axis=1)\n",
    "y = train_df['患有糖尿病标识']\n",
    "model_lr = LogisticRegression()\n",
    "model_lr.fit(X,y)\n",
    "\n",
    "# 预测\n",
    "test_df['label'] = model_lr.predict(test_df.drop(['编号'], axis=1))\n",
    "test_df.rename({'编号': 'ID'}, axis=1)[['ID','label']].to_csv('C:/Users/ewfem/Desktop/糖尿病遗传风险检测挑战赛/submit1.csv', index=None)"
   ]
  },
  {
   "cell_type": "markdown",
   "metadata": {},
   "source": [
    "![](https://raw.githubusercontent.com/EWFEMLTY-D/Picbed/main/微信图片_20220629151151.png)"
   ]
  },
  {
   "cell_type": "markdown",
   "metadata": {},
   "source": [
    "*步骤4：将训练集20%划分为验证集，在训练部分进行训练，在测试部分进行预测，调节逻辑回归的超参数*"
   ]
  },
  {
   "cell_type": "code",
   "execution_count": 70,
   "metadata": {},
   "outputs": [],
   "source": [
    "from sklearn.model_selection import GridSearchCV\n",
    "\n",
    "def get_best_model(model, params, X, y):\n",
    "    grid = GridSearchCV(model, params, error_score=0.)\n",
    "    grid.fit(X, y)\n",
    "    print(\"Best Accuracy: {}\".format(grid.best_score_))\n",
    "    print(\"Best Parameters: {}\".format(grid.best_params_))"
   ]
  },
  {
   "cell_type": "code",
   "execution_count": 71,
   "metadata": {},
   "outputs": [
    {
     "name": "stderr",
     "output_type": "stream",
     "text": [
      "d:\\Anaconda3\\lib\\site-packages\\sklearn\\linear_model\\_sag.py:352: ConvergenceWarning: The max_iter was reached which means the coef_ did not converge\n",
      "  warnings.warn(\n",
      "d:\\Anaconda3\\lib\\site-packages\\sklearn\\linear_model\\_sag.py:352: ConvergenceWarning: The max_iter was reached which means the coef_ did not converge\n",
      "  warnings.warn(\n",
      "d:\\Anaconda3\\lib\\site-packages\\sklearn\\linear_model\\_sag.py:352: ConvergenceWarning: The max_iter was reached which means the coef_ did not converge\n",
      "  warnings.warn(\n",
      "d:\\Anaconda3\\lib\\site-packages\\sklearn\\linear_model\\_sag.py:352: ConvergenceWarning: The max_iter was reached which means the coef_ did not converge\n",
      "  warnings.warn(\n",
      "d:\\Anaconda3\\lib\\site-packages\\sklearn\\linear_model\\_sag.py:352: ConvergenceWarning: The max_iter was reached which means the coef_ did not converge\n",
      "  warnings.warn(\n",
      "d:\\Anaconda3\\lib\\site-packages\\sklearn\\linear_model\\_sag.py:352: ConvergenceWarning: The max_iter was reached which means the coef_ did not converge\n",
      "  warnings.warn(\n",
      "d:\\Anaconda3\\lib\\site-packages\\sklearn\\linear_model\\_sag.py:352: ConvergenceWarning: The max_iter was reached which means the coef_ did not converge\n",
      "  warnings.warn(\n",
      "d:\\Anaconda3\\lib\\site-packages\\sklearn\\linear_model\\_sag.py:352: ConvergenceWarning: The max_iter was reached which means the coef_ did not converge\n",
      "  warnings.warn(\n",
      "d:\\Anaconda3\\lib\\site-packages\\sklearn\\linear_model\\_sag.py:352: ConvergenceWarning: The max_iter was reached which means the coef_ did not converge\n",
      "  warnings.warn(\n",
      "d:\\Anaconda3\\lib\\site-packages\\sklearn\\linear_model\\_sag.py:352: ConvergenceWarning: The max_iter was reached which means the coef_ did not converge\n",
      "  warnings.warn(\n",
      "d:\\Anaconda3\\lib\\site-packages\\sklearn\\svm\\_base.py:1206: ConvergenceWarning: Liblinear failed to converge, increase the number of iterations.\n",
      "  warnings.warn(\n",
      "d:\\Anaconda3\\lib\\site-packages\\sklearn\\svm\\_base.py:1206: ConvergenceWarning: Liblinear failed to converge, increase the number of iterations.\n",
      "  warnings.warn(\n",
      "d:\\Anaconda3\\lib\\site-packages\\sklearn\\svm\\_base.py:1206: ConvergenceWarning: Liblinear failed to converge, increase the number of iterations.\n",
      "  warnings.warn(\n",
      "d:\\Anaconda3\\lib\\site-packages\\sklearn\\svm\\_base.py:1206: ConvergenceWarning: Liblinear failed to converge, increase the number of iterations.\n",
      "  warnings.warn(\n",
      "d:\\Anaconda3\\lib\\site-packages\\sklearn\\linear_model\\_sag.py:352: ConvergenceWarning: The max_iter was reached which means the coef_ did not converge\n",
      "  warnings.warn(\n",
      "d:\\Anaconda3\\lib\\site-packages\\sklearn\\linear_model\\_sag.py:352: ConvergenceWarning: The max_iter was reached which means the coef_ did not converge\n",
      "  warnings.warn(\n",
      "d:\\Anaconda3\\lib\\site-packages\\sklearn\\linear_model\\_sag.py:352: ConvergenceWarning: The max_iter was reached which means the coef_ did not converge\n",
      "  warnings.warn(\n",
      "d:\\Anaconda3\\lib\\site-packages\\sklearn\\linear_model\\_sag.py:352: ConvergenceWarning: The max_iter was reached which means the coef_ did not converge\n",
      "  warnings.warn(\n",
      "d:\\Anaconda3\\lib\\site-packages\\sklearn\\linear_model\\_sag.py:352: ConvergenceWarning: The max_iter was reached which means the coef_ did not converge\n",
      "  warnings.warn(\n",
      "d:\\Anaconda3\\lib\\site-packages\\sklearn\\linear_model\\_sag.py:352: ConvergenceWarning: The max_iter was reached which means the coef_ did not converge\n",
      "  warnings.warn(\n",
      "d:\\Anaconda3\\lib\\site-packages\\sklearn\\linear_model\\_sag.py:352: ConvergenceWarning: The max_iter was reached which means the coef_ did not converge\n",
      "  warnings.warn(\n",
      "d:\\Anaconda3\\lib\\site-packages\\sklearn\\linear_model\\_sag.py:352: ConvergenceWarning: The max_iter was reached which means the coef_ did not converge\n",
      "  warnings.warn(\n",
      "d:\\Anaconda3\\lib\\site-packages\\sklearn\\linear_model\\_sag.py:352: ConvergenceWarning: The max_iter was reached which means the coef_ did not converge\n",
      "  warnings.warn(\n",
      "d:\\Anaconda3\\lib\\site-packages\\sklearn\\linear_model\\_sag.py:352: ConvergenceWarning: The max_iter was reached which means the coef_ did not converge\n",
      "  warnings.warn(\n",
      "d:\\Anaconda3\\lib\\site-packages\\sklearn\\svm\\_base.py:1206: ConvergenceWarning: Liblinear failed to converge, increase the number of iterations.\n",
      "  warnings.warn(\n",
      "d:\\Anaconda3\\lib\\site-packages\\sklearn\\svm\\_base.py:1206: ConvergenceWarning: Liblinear failed to converge, increase the number of iterations.\n",
      "  warnings.warn(\n",
      "d:\\Anaconda3\\lib\\site-packages\\sklearn\\svm\\_base.py:1206: ConvergenceWarning: Liblinear failed to converge, increase the number of iterations.\n",
      "  warnings.warn(\n",
      "d:\\Anaconda3\\lib\\site-packages\\sklearn\\svm\\_base.py:1206: ConvergenceWarning: Liblinear failed to converge, increase the number of iterations.\n",
      "  warnings.warn(\n",
      "d:\\Anaconda3\\lib\\site-packages\\sklearn\\linear_model\\_sag.py:352: ConvergenceWarning: The max_iter was reached which means the coef_ did not converge\n",
      "  warnings.warn(\n",
      "d:\\Anaconda3\\lib\\site-packages\\sklearn\\linear_model\\_sag.py:352: ConvergenceWarning: The max_iter was reached which means the coef_ did not converge\n",
      "  warnings.warn(\n",
      "d:\\Anaconda3\\lib\\site-packages\\sklearn\\linear_model\\_sag.py:352: ConvergenceWarning: The max_iter was reached which means the coef_ did not converge\n",
      "  warnings.warn(\n",
      "d:\\Anaconda3\\lib\\site-packages\\sklearn\\linear_model\\_sag.py:352: ConvergenceWarning: The max_iter was reached which means the coef_ did not converge\n",
      "  warnings.warn(\n",
      "d:\\Anaconda3\\lib\\site-packages\\sklearn\\linear_model\\_sag.py:352: ConvergenceWarning: The max_iter was reached which means the coef_ did not converge\n",
      "  warnings.warn(\n",
      "d:\\Anaconda3\\lib\\site-packages\\sklearn\\linear_model\\_sag.py:352: ConvergenceWarning: The max_iter was reached which means the coef_ did not converge\n",
      "  warnings.warn(\n",
      "d:\\Anaconda3\\lib\\site-packages\\sklearn\\linear_model\\_sag.py:352: ConvergenceWarning: The max_iter was reached which means the coef_ did not converge\n",
      "  warnings.warn(\n",
      "d:\\Anaconda3\\lib\\site-packages\\sklearn\\linear_model\\_sag.py:352: ConvergenceWarning: The max_iter was reached which means the coef_ did not converge\n",
      "  warnings.warn(\n",
      "d:\\Anaconda3\\lib\\site-packages\\sklearn\\linear_model\\_sag.py:352: ConvergenceWarning: The max_iter was reached which means the coef_ did not converge\n",
      "  warnings.warn(\n",
      "d:\\Anaconda3\\lib\\site-packages\\sklearn\\linear_model\\_sag.py:352: ConvergenceWarning: The max_iter was reached which means the coef_ did not converge\n",
      "  warnings.warn(\n",
      "d:\\Anaconda3\\lib\\site-packages\\sklearn\\svm\\_base.py:1206: ConvergenceWarning: Liblinear failed to converge, increase the number of iterations.\n",
      "  warnings.warn(\n",
      "d:\\Anaconda3\\lib\\site-packages\\sklearn\\svm\\_base.py:1206: ConvergenceWarning: Liblinear failed to converge, increase the number of iterations.\n",
      "  warnings.warn(\n",
      "d:\\Anaconda3\\lib\\site-packages\\sklearn\\linear_model\\_sag.py:352: ConvergenceWarning: The max_iter was reached which means the coef_ did not converge\n",
      "  warnings.warn(\n",
      "d:\\Anaconda3\\lib\\site-packages\\sklearn\\linear_model\\_sag.py:352: ConvergenceWarning: The max_iter was reached which means the coef_ did not converge\n",
      "  warnings.warn(\n",
      "d:\\Anaconda3\\lib\\site-packages\\sklearn\\linear_model\\_sag.py:352: ConvergenceWarning: The max_iter was reached which means the coef_ did not converge\n",
      "  warnings.warn(\n",
      "d:\\Anaconda3\\lib\\site-packages\\sklearn\\linear_model\\_sag.py:352: ConvergenceWarning: The max_iter was reached which means the coef_ did not converge\n",
      "  warnings.warn(\n",
      "d:\\Anaconda3\\lib\\site-packages\\sklearn\\linear_model\\_sag.py:352: ConvergenceWarning: The max_iter was reached which means the coef_ did not converge\n",
      "  warnings.warn(\n",
      "d:\\Anaconda3\\lib\\site-packages\\sklearn\\linear_model\\_sag.py:352: ConvergenceWarning: The max_iter was reached which means the coef_ did not converge\n",
      "  warnings.warn(\n",
      "d:\\Anaconda3\\lib\\site-packages\\sklearn\\linear_model\\_sag.py:352: ConvergenceWarning: The max_iter was reached which means the coef_ did not converge\n",
      "  warnings.warn(\n",
      "d:\\Anaconda3\\lib\\site-packages\\sklearn\\linear_model\\_sag.py:352: ConvergenceWarning: The max_iter was reached which means the coef_ did not converge\n",
      "  warnings.warn(\n",
      "d:\\Anaconda3\\lib\\site-packages\\sklearn\\linear_model\\_sag.py:352: ConvergenceWarning: The max_iter was reached which means the coef_ did not converge\n",
      "  warnings.warn(\n",
      "d:\\Anaconda3\\lib\\site-packages\\sklearn\\linear_model\\_sag.py:352: ConvergenceWarning: The max_iter was reached which means the coef_ did not converge\n",
      "  warnings.warn(\n",
      "d:\\Anaconda3\\lib\\site-packages\\sklearn\\svm\\_base.py:1206: ConvergenceWarning: Liblinear failed to converge, increase the number of iterations.\n",
      "  warnings.warn(\n",
      "d:\\Anaconda3\\lib\\site-packages\\sklearn\\svm\\_base.py:1206: ConvergenceWarning: Liblinear failed to converge, increase the number of iterations.\n",
      "  warnings.warn(\n",
      "d:\\Anaconda3\\lib\\site-packages\\sklearn\\linear_model\\_sag.py:352: ConvergenceWarning: The max_iter was reached which means the coef_ did not converge\n",
      "  warnings.warn(\n",
      "d:\\Anaconda3\\lib\\site-packages\\sklearn\\linear_model\\_sag.py:352: ConvergenceWarning: The max_iter was reached which means the coef_ did not converge\n",
      "  warnings.warn(\n",
      "d:\\Anaconda3\\lib\\site-packages\\sklearn\\linear_model\\_sag.py:352: ConvergenceWarning: The max_iter was reached which means the coef_ did not converge\n",
      "  warnings.warn(\n",
      "d:\\Anaconda3\\lib\\site-packages\\sklearn\\linear_model\\_sag.py:352: ConvergenceWarning: The max_iter was reached which means the coef_ did not converge\n",
      "  warnings.warn(\n",
      "d:\\Anaconda3\\lib\\site-packages\\sklearn\\linear_model\\_sag.py:352: ConvergenceWarning: The max_iter was reached which means the coef_ did not converge\n",
      "  warnings.warn(\n",
      "d:\\Anaconda3\\lib\\site-packages\\sklearn\\linear_model\\_sag.py:352: ConvergenceWarning: The max_iter was reached which means the coef_ did not converge\n",
      "  warnings.warn(\n",
      "d:\\Anaconda3\\lib\\site-packages\\sklearn\\linear_model\\_sag.py:352: ConvergenceWarning: The max_iter was reached which means the coef_ did not converge\n",
      "  warnings.warn(\n",
      "d:\\Anaconda3\\lib\\site-packages\\sklearn\\linear_model\\_sag.py:352: ConvergenceWarning: The max_iter was reached which means the coef_ did not converge\n",
      "  warnings.warn(\n",
      "d:\\Anaconda3\\lib\\site-packages\\sklearn\\linear_model\\_sag.py:352: ConvergenceWarning: The max_iter was reached which means the coef_ did not converge\n",
      "  warnings.warn(\n",
      "d:\\Anaconda3\\lib\\site-packages\\sklearn\\linear_model\\_sag.py:352: ConvergenceWarning: The max_iter was reached which means the coef_ did not converge\n",
      "  warnings.warn(\n",
      "d:\\Anaconda3\\lib\\site-packages\\sklearn\\svm\\_base.py:1206: ConvergenceWarning: Liblinear failed to converge, increase the number of iterations.\n",
      "  warnings.warn(\n",
      "d:\\Anaconda3\\lib\\site-packages\\sklearn\\svm\\_base.py:1206: ConvergenceWarning: Liblinear failed to converge, increase the number of iterations.\n",
      "  warnings.warn(\n",
      "d:\\Anaconda3\\lib\\site-packages\\sklearn\\linear_model\\_sag.py:352: ConvergenceWarning: The max_iter was reached which means the coef_ did not converge\n",
      "  warnings.warn(\n",
      "d:\\Anaconda3\\lib\\site-packages\\sklearn\\linear_model\\_sag.py:352: ConvergenceWarning: The max_iter was reached which means the coef_ did not converge\n",
      "  warnings.warn(\n",
      "d:\\Anaconda3\\lib\\site-packages\\sklearn\\linear_model\\_sag.py:352: ConvergenceWarning: The max_iter was reached which means the coef_ did not converge\n",
      "  warnings.warn(\n",
      "d:\\Anaconda3\\lib\\site-packages\\sklearn\\linear_model\\_sag.py:352: ConvergenceWarning: The max_iter was reached which means the coef_ did not converge\n",
      "  warnings.warn(\n",
      "d:\\Anaconda3\\lib\\site-packages\\sklearn\\linear_model\\_sag.py:352: ConvergenceWarning: The max_iter was reached which means the coef_ did not converge\n",
      "  warnings.warn(\n",
      "d:\\Anaconda3\\lib\\site-packages\\sklearn\\linear_model\\_sag.py:352: ConvergenceWarning: The max_iter was reached which means the coef_ did not converge\n",
      "  warnings.warn(\n",
      "d:\\Anaconda3\\lib\\site-packages\\sklearn\\linear_model\\_sag.py:352: ConvergenceWarning: The max_iter was reached which means the coef_ did not converge\n",
      "  warnings.warn(\n",
      "d:\\Anaconda3\\lib\\site-packages\\sklearn\\linear_model\\_sag.py:352: ConvergenceWarning: The max_iter was reached which means the coef_ did not converge\n",
      "  warnings.warn(\n",
      "d:\\Anaconda3\\lib\\site-packages\\sklearn\\linear_model\\_sag.py:352: ConvergenceWarning: The max_iter was reached which means the coef_ did not converge\n",
      "  warnings.warn(\n",
      "d:\\Anaconda3\\lib\\site-packages\\sklearn\\linear_model\\_sag.py:352: ConvergenceWarning: The max_iter was reached which means the coef_ did not converge\n",
      "  warnings.warn(\n"
     ]
    },
    {
     "name": "stdout",
     "output_type": "stream",
     "text": [
      "Best Accuracy: 0.813855363141047\n",
      "Best Parameters: {'C': 100, 'penalty': 'l1', 'solver': 'saga'}\n"
     ]
    },
    {
     "name": "stderr",
     "output_type": "stream",
     "text": [
      "d:\\Anaconda3\\lib\\site-packages\\sklearn\\linear_model\\_sag.py:352: ConvergenceWarning: The max_iter was reached which means the coef_ did not converge\n",
      "  warnings.warn(\n"
     ]
    }
   ],
   "source": [
    "X_train, X_test, y_train, y_test = train_test_split(train_df.drop(['编号','患有糖尿病标识'], axis=1), train_df['患有糖尿病标识'], test_size=0.2, random_state=2022)\n",
    "Ir_params = {'C':[0.1,1,5,10,50,100],'penalty':['l1','l2'],'solver':['liblinear','saga']}\n",
    "model_lr_1 = LogisticRegression()\n",
    "get_best_model(model_lr_1, Ir_params, X_train, y_train)"
   ]
  },
  {
   "cell_type": "code",
   "execution_count": 72,
   "metadata": {},
   "outputs": [
    {
     "name": "stdout",
     "output_type": "stream",
     "text": [
      "0.7830985915492956\n"
     ]
    },
    {
     "name": "stderr",
     "output_type": "stream",
     "text": [
      "d:\\Anaconda3\\lib\\site-packages\\sklearn\\linear_model\\_sag.py:352: ConvergenceWarning: The max_iter was reached which means the coef_ did not converge\n",
      "  warnings.warn(\n"
     ]
    }
   ],
   "source": [
    "model_lr_2 = LogisticRegression(C=0.1, penalty='l1', solver='saga')\n",
    "model_lr_2.fit(X_train, y_train)\n",
    "y_pred = model_lr_2.predict(X_test)\n",
    "print(f1_score(y_test, y_pred))"
   ]
  },
  {
   "cell_type": "code",
   "execution_count": 73,
   "metadata": {},
   "outputs": [
    {
     "data": {
      "text/html": [
       "<div>\n",
       "<style scoped>\n",
       "    .dataframe tbody tr th:only-of-type {\n",
       "        vertical-align: middle;\n",
       "    }\n",
       "\n",
       "    .dataframe tbody tr th {\n",
       "        vertical-align: top;\n",
       "    }\n",
       "\n",
       "    .dataframe thead th {\n",
       "        text-align: right;\n",
       "    }\n",
       "</style>\n",
       "<table border=\"1\" class=\"dataframe\">\n",
       "  <thead>\n",
       "    <tr style=\"text-align: right;\">\n",
       "      <th></th>\n",
       "      <th>编号</th>\n",
       "      <th>性别</th>\n",
       "      <th>出生年份</th>\n",
       "      <th>体重指数</th>\n",
       "      <th>糖尿病家族史</th>\n",
       "      <th>舒张压</th>\n",
       "      <th>口服耐糖量测试</th>\n",
       "      <th>胰岛素释放实验</th>\n",
       "      <th>肱三头肌皮褶厚度</th>\n",
       "      <th>label</th>\n",
       "    </tr>\n",
       "  </thead>\n",
       "  <tbody>\n",
       "    <tr>\n",
       "      <th>0</th>\n",
       "      <td>1</td>\n",
       "      <td>0</td>\n",
       "      <td>1987</td>\n",
       "      <td>33.1</td>\n",
       "      <td>0</td>\n",
       "      <td>72.0</td>\n",
       "      <td>6.586</td>\n",
       "      <td>24.16</td>\n",
       "      <td>2.94</td>\n",
       "      <td>0</td>\n",
       "    </tr>\n",
       "    <tr>\n",
       "      <th>1</th>\n",
       "      <td>2</td>\n",
       "      <td>0</td>\n",
       "      <td>1998</td>\n",
       "      <td>20.6</td>\n",
       "      <td>1</td>\n",
       "      <td>68.0</td>\n",
       "      <td>3.861</td>\n",
       "      <td>0.00</td>\n",
       "      <td>0.00</td>\n",
       "      <td>0</td>\n",
       "    </tr>\n",
       "  </tbody>\n",
       "</table>\n",
       "</div>"
      ],
      "text/plain": [
       "   编号  性别  出生年份  体重指数  糖尿病家族史   舒张压  口服耐糖量测试  胰岛素释放实验  肱三头肌皮褶厚度  label\n",
       "0   1   0  1987  33.1       0  72.0    6.586    24.16      2.94      0\n",
       "1   2   0  1998  20.6       1  68.0    3.861     0.00      0.00      0"
      ]
     },
     "execution_count": 73,
     "metadata": {},
     "output_type": "execute_result"
    }
   ],
   "source": [
    "test_df.head(2)"
   ]
  },
  {
   "cell_type": "code",
   "execution_count": 74,
   "metadata": {},
   "outputs": [],
   "source": [
    "# 预测\n",
    "test_df['label'] = model_lr_2.predict(test_df.drop(['编号','label'], axis=1))\n",
    "test_df.rename({'编号': 'ID'}, axis=1)[['ID','label']].to_csv('C:/Users/ewfem/Desktop/糖尿病遗传风险检测挑战赛/submit2.csv', index=None)\n"
   ]
  },
  {
   "cell_type": "markdown",
   "metadata": {},
   "source": [
    "![](https://raw.githubusercontent.com/EWFEMLTY-D/Picbed/main/微信图片_20220630001148.png)"
   ]
  },
  {
   "cell_type": "markdown",
   "metadata": {},
   "source": [
    "![](https://raw.githubusercontent.com/EWFEMLTY-D/Picbed/微信图片_20220629151151.png)"
   ]
  }
 ],
 "metadata": {
  "kernelspec": {
   "display_name": "Python 3.9.12 ('base')",
   "language": "python",
   "name": "python3"
  },
  "language_info": {
   "codemirror_mode": {
    "name": "ipython",
    "version": 3
   },
   "file_extension": ".py",
   "mimetype": "text/x-python",
   "name": "python",
   "nbconvert_exporter": "python",
   "pygments_lexer": "ipython3",
   "version": "3.9.12"
  },
  "orig_nbformat": 4,
  "vscode": {
   "interpreter": {
    "hash": "b09ec625f77bf4fd762565a912b97636504ad6ec901eb2d0f4cf5a7de23e1ee5"
   }
  }
 },
 "nbformat": 4,
 "nbformat_minor": 2
}
